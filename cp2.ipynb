{
 "cells": [
  {
   "cell_type": "markdown",
   "metadata": {},
   "source": [
    "### Checkpoint 2 - Data Science - 2ESA\n",
    "\n",
    "Cassio Valezzi - 551059        \n",
    "Lucca Sabatini - 98169        \n",
    "Victor Nuzzi   - 98209 "
   ]
  },
  {
   "cell_type": "markdown",
   "metadata": {},
   "source": [
    "### Fazer instalação das bibliotecas"
   ]
  },
  {
   "cell_type": "code",
   "execution_count": 19,
   "metadata": {},
   "outputs": [
    {
     "name": "stdout",
     "output_type": "stream",
     "text": [
      "Defaulting to user installation because normal site-packages is not writeable\n",
      "Requirement already satisfied: pandas in c:\\users\\lucca\\appdata\\local\\packages\\pythonsoftwarefoundation.python.3.12_qbz5n2kfra8p0\\localcache\\local-packages\\python312\\site-packages (2.2.1)\n",
      "Requirement already satisfied: seaborn in c:\\users\\lucca\\appdata\\local\\packages\\pythonsoftwarefoundation.python.3.12_qbz5n2kfra8p0\\localcache\\local-packages\\python312\\site-packages (0.13.2)\n",
      "Requirement already satisfied: matplotlib in c:\\users\\lucca\\appdata\\local\\packages\\pythonsoftwarefoundation.python.3.12_qbz5n2kfra8p0\\localcache\\local-packages\\python312\\site-packages (3.9.0)\n",
      "Requirement already satisfied: plotly in c:\\users\\lucca\\appdata\\local\\packages\\pythonsoftwarefoundation.python.3.12_qbz5n2kfra8p0\\localcache\\local-packages\\python312\\site-packages (5.24.1)\n",
      "Requirement already satisfied: statsmodels in c:\\users\\lucca\\appdata\\local\\packages\\pythonsoftwarefoundation.python.3.12_qbz5n2kfra8p0\\localcache\\local-packages\\python312\\site-packages (0.14.4)\n",
      "Requirement already satisfied: jinja2 in c:\\users\\lucca\\appdata\\local\\packages\\pythonsoftwarefoundation.python.3.12_qbz5n2kfra8p0\\localcache\\local-packages\\python312\\site-packages (3.1.4)\n",
      "Requirement already satisfied: numpy<2,>=1.26.0 in c:\\users\\lucca\\appdata\\local\\packages\\pythonsoftwarefoundation.python.3.12_qbz5n2kfra8p0\\localcache\\local-packages\\python312\\site-packages (from pandas) (1.26.4)\n",
      "Requirement already satisfied: python-dateutil>=2.8.2 in c:\\users\\lucca\\appdata\\local\\packages\\pythonsoftwarefoundation.python.3.12_qbz5n2kfra8p0\\localcache\\local-packages\\python312\\site-packages (from pandas) (2.9.0.post0)\n",
      "Requirement already satisfied: pytz>=2020.1 in c:\\users\\lucca\\appdata\\local\\packages\\pythonsoftwarefoundation.python.3.12_qbz5n2kfra8p0\\localcache\\local-packages\\python312\\site-packages (from pandas) (2024.1)\n",
      "Requirement already satisfied: tzdata>=2022.7 in c:\\users\\lucca\\appdata\\local\\packages\\pythonsoftwarefoundation.python.3.12_qbz5n2kfra8p0\\localcache\\local-packages\\python312\\site-packages (from pandas) (2024.1)\n",
      "Requirement already satisfied: contourpy>=1.0.1 in c:\\users\\lucca\\appdata\\local\\packages\\pythonsoftwarefoundation.python.3.12_qbz5n2kfra8p0\\localcache\\local-packages\\python312\\site-packages (from matplotlib) (1.2.1)\n",
      "Requirement already satisfied: cycler>=0.10 in c:\\users\\lucca\\appdata\\local\\packages\\pythonsoftwarefoundation.python.3.12_qbz5n2kfra8p0\\localcache\\local-packages\\python312\\site-packages (from matplotlib) (0.12.1)\n",
      "Requirement already satisfied: fonttools>=4.22.0 in c:\\users\\lucca\\appdata\\local\\packages\\pythonsoftwarefoundation.python.3.12_qbz5n2kfra8p0\\localcache\\local-packages\\python312\\site-packages (from matplotlib) (4.52.4)\n",
      "Requirement already satisfied: kiwisolver>=1.3.1 in c:\\users\\lucca\\appdata\\local\\packages\\pythonsoftwarefoundation.python.3.12_qbz5n2kfra8p0\\localcache\\local-packages\\python312\\site-packages (from matplotlib) (1.4.5)\n",
      "Requirement already satisfied: packaging>=20.0 in c:\\users\\lucca\\appdata\\local\\packages\\pythonsoftwarefoundation.python.3.12_qbz5n2kfra8p0\\localcache\\local-packages\\python312\\site-packages (from matplotlib) (24.0)\n",
      "Requirement already satisfied: pillow>=8 in c:\\users\\lucca\\appdata\\local\\packages\\pythonsoftwarefoundation.python.3.12_qbz5n2kfra8p0\\localcache\\local-packages\\python312\\site-packages (from matplotlib) (10.3.0)\n",
      "Requirement already satisfied: pyparsing>=2.3.1 in c:\\users\\lucca\\appdata\\local\\packages\\pythonsoftwarefoundation.python.3.12_qbz5n2kfra8p0\\localcache\\local-packages\\python312\\site-packages (from matplotlib) (3.1.2)\n",
      "Requirement already satisfied: tenacity>=6.2.0 in c:\\users\\lucca\\appdata\\local\\packages\\pythonsoftwarefoundation.python.3.12_qbz5n2kfra8p0\\localcache\\local-packages\\python312\\site-packages (from plotly) (9.0.0)\n",
      "Requirement already satisfied: scipy!=1.9.2,>=1.8 in c:\\users\\lucca\\appdata\\local\\packages\\pythonsoftwarefoundation.python.3.12_qbz5n2kfra8p0\\localcache\\local-packages\\python312\\site-packages (from statsmodels) (1.13.1)\n",
      "Requirement already satisfied: patsy>=0.5.6 in c:\\users\\lucca\\appdata\\local\\packages\\pythonsoftwarefoundation.python.3.12_qbz5n2kfra8p0\\localcache\\local-packages\\python312\\site-packages (from statsmodels) (0.5.6)\n",
      "Requirement already satisfied: MarkupSafe>=2.0 in c:\\users\\lucca\\appdata\\local\\packages\\pythonsoftwarefoundation.python.3.12_qbz5n2kfra8p0\\localcache\\local-packages\\python312\\site-packages (from jinja2) (3.0.2)\n",
      "Requirement already satisfied: six in c:\\users\\lucca\\appdata\\local\\packages\\pythonsoftwarefoundation.python.3.12_qbz5n2kfra8p0\\localcache\\local-packages\\python312\\site-packages (from patsy>=0.5.6->statsmodels) (1.16.0)\n",
      "Note: you may need to restart the kernel to use updated packages.\n"
     ]
    }
   ],
   "source": [
    "%pip install pandas seaborn matplotlib plotly statsmodels jinja2"
   ]
  },
  {
   "cell_type": "markdown",
   "metadata": {},
   "source": [
    "### Fazer importação das bibliotecas que serão usadas"
   ]
  },
  {
   "cell_type": "code",
   "execution_count": 20,
   "metadata": {},
   "outputs": [],
   "source": [
    "import pandas as pd\n",
    "import seaborn as sns\n",
    "import matplotlib.pyplot as plt\n",
    "import plotly.express as px\n",
    "import statsmodels.api as sm\n",
    "from io import BytesIO\n",
    "import base64\n",
    "from jinja2 import Template"
   ]
  },
  {
   "cell_type": "markdown",
   "metadata": {},
   "source": [
    "### Função para salvar gráficos como Base64"
   ]
  },
  {
   "cell_type": "code",
   "execution_count": 21,
   "metadata": {},
   "outputs": [],
   "source": [
    "def plot_to_base64(plt):\n",
    "    img = BytesIO()\n",
    "    plt.savefig(img, format='png')\n",
    "    img.seek(0)\n",
    "    return base64.b64encode(img.getvalue()).decode('utf-8')"
   ]
  },
  {
   "cell_type": "markdown",
   "metadata": {},
   "source": [
    "### Função principal para fazer analises e depois ser importada para o HTML"
   ]
  },
  {
   "cell_type": "code",
   "execution_count": 22,
   "metadata": {},
   "outputs": [],
   "source": [
    "def analyze_dataframe(df, output_file=\"report.html\"):\n",
    "    sns.set(style=\"whitegrid\")\n",
    "\n",
    "    #Estatísticas descritivas\n",
    "    stats = df.describe().T\n",
    "    \n",
    "    #Apenas colunas numéricas para a correlação\n",
    "    numerical_df = df.select_dtypes(include=['float64', 'int64'])\n",
    "    \n",
    "    #Gráfico de correlação\n",
    "    if not numerical_df.empty:\n",
    "        corr = numerical_df.corr()\n",
    "        plt.figure(figsize=(10, 6))\n",
    "        sns.heatmap(corr, annot=True, cmap='coolwarm', linewidths=0.5)\n",
    "        plt.title('Correlation Heatmap')\n",
    "        corr_img = plot_to_base64(plt)\n",
    "        plt.close()\n",
    "    else:\n",
    "        corr_img = None\n",
    "    \n",
    "    #Histogramas de cada coluna\n",
    "    histograms = {}\n",
    "    for column in numerical_df.columns:\n",
    "        if column != \"A_id\":\n",
    "            plt.figure(figsize=(6, 4))\n",
    "            sns.histplot(df[column], kde=True)\n",
    "            plt.title(f'Histogram of {column}')\n",
    "            histograms[column] = plot_to_base64(plt)\n",
    "            plt.close()\n",
    "    \n",
    "    #Scatter plots\n",
    "    scatter_plots = {}\n",
    "    numerical_columns = numerical_df.columns\n",
    "    for i, col1 in enumerate(numerical_columns):\n",
    "        if col1 != \"A_id\":\n",
    "            for col2 in numerical_columns[i+1:]:\n",
    "                plt.figure(figsize=(6, 4))\n",
    "                sns.scatterplot(x=col1, y=col2, data=df)\n",
    "                plt.title(f'Scatter plot between {col1} and {col2}')\n",
    "                scatter_plots[f'{col1}_vs_{col2}'] = plot_to_base64(plt)\n",
    "                plt.close()\n",
    "\n",
    "    #Regressão linear\n",
    "    regression_plots = {}\n",
    "    for col1 in numerical_columns:\n",
    "        if col1 != \"A_id\":\n",
    "            for col2 in numerical_columns:\n",
    "                    if (col1 != col2) and col2 != \"A_id\":\n",
    "                        #Arrumar valores\n",
    "                        subset_df = df[[col1, col2]].dropna()\n",
    "                        \n",
    "                        if not subset_df.empty:\n",
    "                            X = sm.add_constant(subset_df[col1])\n",
    "                            Y = subset_df[col2]\n",
    "                            model = sm.OLS(Y, X).fit()\n",
    "                            plt.figure(figsize=(6, 4))\n",
    "                            sns.jointplot(x=col1, y=col2, data=subset_df,kind=\"reg\", truncate=False,color=\"m\")\n",
    "                            # plt.title(f'Regression: {col1} vs {col2}')\n",
    "                            regression_plots[f'Regression: {col1} vs {col2}'] = plot_to_base64(plt)\n",
    "                            plt.close()\n",
    "\n",
    "    #HTML\n",
    "    template = \"\"\"\n",
    "    <html>\n",
    "    <head>\n",
    "        <link href=\"https://cdn.jsdelivr.net/npm/bootstrap@5.1.3/dist/css/bootstrap.min.css\" rel=\"stylesheet\">\n",
    "        <title>Data Analysis Report</title>\n",
    "        <style>\n",
    "            body {\n",
    "                padding-top: 20px;\n",
    "            }\n",
    "            h1, h2 {\n",
    "                text-align: center;\n",
    "                margin-bottom: 30px;\n",
    "            }\n",
    "            .section {\n",
    "                margin-bottom: 50px;\n",
    "            }\n",
    "            .img-fluid {\n",
    "                margin: 20px 0;\n",
    "            }\n",
    "        </style>\n",
    "    </head>\n",
    "    <body>\n",
    "        <div class=\"container\">\n",
    "            <h1 class=\"mt-5\">Automated Data Analysis Report</h1>\n",
    "            <p class=\"text-center\">\n",
    "            This report provides a detailed visual and statistical analysis of the given dataset, using various techniques like correlation heatmaps, histograms, scatter plots, and linear regressions.\n",
    "            </p>\n",
    "           \n",
    "            <div class=\"section\">\n",
    "                <h2>1. Correlação Heatmap</h2>\n",
    "                <p>\n",
    "                Este mapa de calor mostra a correlação entre colunas numéricas no conjunto de dados. Um valor próximo de 1 indica uma forte correlação positiva, enquanto um valor próximo de -1 indica uma forte correlação negativa. Um valor próximo de 0 significa que não há correlação.\n",
    "                </p>\n",
    "                {% if corr_img %}\n",
    "                <img src=\"data:image/png;base64,{{ corr_img }}\" class=\"img-fluid\" alt=\"Correlation Heatmap\">\n",
    "                {% else %}\n",
    "                <p>No numerical data available for correlation analysis.</p>\n",
    "                {% endif %}\n",
    "            </div>\n",
    "            \n",
    "            <div class=\"section\">\n",
    "                <h2>2. Estatisticas Descritivas</h2>\n",
    "                <p>\n",
    "                A tabela abaixo resume as estatísticas básicas para cada coluna numérica, incluindo a contagem, média, desvio padrão e os valores mínimo e máximo.\n",
    "                </p>\n",
    "                <table class=\"table table-bordered\">\n",
    "                    <thead>\n",
    "                        <tr>\n",
    "                            <th>Column</th>\n",
    "                            <th>Count</th>\n",
    "                            <th>Mean</th>\n",
    "                            <th>Std</th>\n",
    "                            <th>Min</th>\n",
    "                            <th>25%</th>\n",
    "                            <th>50%</th>\n",
    "                            <th>75%</th>\n",
    "                            <th>Max</th>\n",
    "                        </tr>\n",
    "                    </thead>\n",
    "                    <tbody>\n",
    "                        {% for col, stats in stats.iterrows() %}\n",
    "                        <tr>\n",
    "                            <td>{{ col }}</td>\n",
    "                            <td>{{ stats['count'] }}</td>\n",
    "                            <td>{{ stats['mean'] }}</td>\n",
    "                            <td>{{ stats['std'] }}</td>\n",
    "                            <td>{{ stats['min'] }}</td>\n",
    "                            <td>{{ stats['25%'] }}</td>\n",
    "                            <td>{{ stats['50%'] }}</td>\n",
    "                            <td>{{ stats['75%'] }}</td>\n",
    "                            <td>{{ stats['max'] }}</td>\n",
    "                        </tr>\n",
    "                        {% endfor %}\n",
    "                    </tbody>\n",
    "                </table>\n",
    "            </div>\n",
    "            \n",
    "            <div class=\"section\">\n",
    "                <div class=\"container text-center\">\n",
    "                    <h2>3. Histograms</h2>\n",
    "                    <p>\n",
    "                    Os gráficos de dispersão mostram a relação entre duas variáveis numéricas. Um padrão pode ajudar a identificar correlações, tendências ou valores discrepantes.\n",
    "                    </p>\n",
    "                    <div class=\"row row-cols-2\">\n",
    "                        {% for col, img in histograms.items() %}\n",
    "                        <div class=\"col\">\n",
    "                        <h3>{{ col }}</h3>\n",
    "                        <img src=\"data:image/png;base64,{{ img }}\" class=\"img-fluid\" alt=\"Histogram for {{ col }}\">\n",
    "                        </div>\n",
    "                        {% endfor %}\n",
    "                    </div>\n",
    "                </div>\n",
    "            </div>\n",
    "            \n",
    "            <div class=\"section\">\n",
    "                <div class=\"container text-center\">\n",
    "                    <h2>4. Scatter Plots</h2>\n",
    "                    <p>\n",
    "                    Os gráficos de dispersão mostram a relação entre duas variáveis numéricas. Um padrão pode ajudar a identificar correlações, tendências ou valores discrepantes.\n",
    "                    </p>\n",
    "                    <div class=\"row row-cols-2\">\n",
    "                        {% for title, img in scatter_plots.items() %}\n",
    "                        <div class=\"col\">\n",
    "                        <h3>{{ title }}</h3>\n",
    "                        <img src=\"data:image/png;base64,{{ img }}\" class=\"img-fluid\" alt=\"{{ title }}\">\n",
    "                        </div>\n",
    "                        {% endfor %}\n",
    "                    </div>\n",
    "                </div> \n",
    "            </div>\n",
    "            \n",
    "            <div class=\"section\">\n",
    "                <div class=\"container text-center\">\n",
    "                    <h2>5. Regressão Linear</h2>\n",
    "                    <p>\n",
    "                    A regressão linear tenta modelar a relação entre duas variáveis ​​numéricas ajustando uma linha através dos pontos de dados. A linha vermelha nos gráficos representa o ajuste linear.\n",
    "                    </p>\n",
    "                    <div class=\"row row-cols-2\">                                          \n",
    "                        {% for title, img in regression_plots.items() %}\n",
    "                        <div class=\"col\">\n",
    "                        <h3>{{ title }}</h3>\n",
    "                        <img src=\"data:image/png;base64,{{ img }}\" class=\"img-fluid\" alt=\"Regression plot for {{ title }}\">\n",
    "                        </div>\n",
    "                        {% endfor %}\n",
    "                    </div>\n",
    "                </div>\n",
    "            </div>\n",
    "        </div>\n",
    "    </body>\n",
    "    </html>\n",
    "    \"\"\"\n",
    "    \n",
    "    html_content = Template(template).render(\n",
    "        corr_img=corr_img, \n",
    "        stats=stats, \n",
    "        histograms=histograms, \n",
    "        scatter_plots=scatter_plots, \n",
    "        regression_plots=regression_plots\n",
    "    )\n",
    "    \n",
    "    # Salvar o relatório em HTML com codificação UTF-8\n",
    "    with open(output_file, \"w\", encoding=\"utf-8\") as f:\n",
    "        f.write(html_content)\n",
    "    print(f\"Report saved to {output_file}\")\n",
    "\n"
   ]
  },
  {
   "cell_type": "markdown",
   "metadata": {},
   "source": [
    "### Carregar o dataset e depois criar o arquivo HTML "
   ]
  },
  {
   "cell_type": "code",
   "execution_count": 23,
   "metadata": {},
   "outputs": [
    {
     "name": "stderr",
     "output_type": "stream",
     "text": [
      "C:\\Users\\lucca\\AppData\\Local\\Packages\\PythonSoftwareFoundation.Python.3.12_qbz5n2kfra8p0\\LocalCache\\local-packages\\Python312\\site-packages\\seaborn\\axisgrid.py:1696: RuntimeWarning: More than 20 figures have been opened. Figures created through the pyplot interface (`matplotlib.pyplot.figure`) are retained until explicitly closed and may consume too much memory. (To control this warning, see the rcParam `figure.max_open_warning`). Consider using `matplotlib.pyplot.close()`.\n",
      "  f = plt.figure(figsize=(height, height))\n",
      "C:\\Users\\lucca\\AppData\\Local\\Temp\\ipykernel_10672\\1390726002.py:56: RuntimeWarning: More than 20 figures have been opened. Figures created through the pyplot interface (`matplotlib.pyplot.figure`) are retained until explicitly closed and may consume too much memory. (To control this warning, see the rcParam `figure.max_open_warning`). Consider using `matplotlib.pyplot.close()`.\n",
      "  plt.figure(figsize=(6, 4))\n"
     ]
    },
    {
     "name": "stdout",
     "output_type": "stream",
     "text": [
      "Report saved to apple_quality_report.html\n"
     ]
    },
    {
     "data": {
      "text/plain": [
       "<Figure size 600x400 with 0 Axes>"
      ]
     },
     "metadata": {},
     "output_type": "display_data"
    },
    {
     "data": {
      "text/plain": [
       "<Figure size 600x400 with 0 Axes>"
      ]
     },
     "metadata": {},
     "output_type": "display_data"
    },
    {
     "data": {
      "text/plain": [
       "<Figure size 600x400 with 0 Axes>"
      ]
     },
     "metadata": {},
     "output_type": "display_data"
    },
    {
     "data": {
      "text/plain": [
       "<Figure size 600x400 with 0 Axes>"
      ]
     },
     "metadata": {},
     "output_type": "display_data"
    },
    {
     "data": {
      "text/plain": [
       "<Figure size 600x400 with 0 Axes>"
      ]
     },
     "metadata": {},
     "output_type": "display_data"
    },
    {
     "data": {
      "text/plain": [
       "<Figure size 600x400 with 0 Axes>"
      ]
     },
     "metadata": {},
     "output_type": "display_data"
    },
    {
     "data": {
      "text/plain": [
       "<Figure size 600x400 with 0 Axes>"
      ]
     },
     "metadata": {},
     "output_type": "display_data"
    },
    {
     "data": {
      "text/plain": [
       "<Figure size 600x400 with 0 Axes>"
      ]
     },
     "metadata": {},
     "output_type": "display_data"
    },
    {
     "data": {
      "text/plain": [
       "<Figure size 600x400 with 0 Axes>"
      ]
     },
     "metadata": {},
     "output_type": "display_data"
    },
    {
     "data": {
      "text/plain": [
       "<Figure size 600x400 with 0 Axes>"
      ]
     },
     "metadata": {},
     "output_type": "display_data"
    },
    {
     "data": {
      "text/plain": [
       "<Figure size 600x400 with 0 Axes>"
      ]
     },
     "metadata": {},
     "output_type": "display_data"
    },
    {
     "data": {
      "text/plain": [
       "<Figure size 600x400 with 0 Axes>"
      ]
     },
     "metadata": {},
     "output_type": "display_data"
    },
    {
     "data": {
      "text/plain": [
       "<Figure size 600x400 with 0 Axes>"
      ]
     },
     "metadata": {},
     "output_type": "display_data"
    },
    {
     "data": {
      "text/plain": [
       "<Figure size 600x400 with 0 Axes>"
      ]
     },
     "metadata": {},
     "output_type": "display_data"
    },
    {
     "data": {
      "text/plain": [
       "<Figure size 600x400 with 0 Axes>"
      ]
     },
     "metadata": {},
     "output_type": "display_data"
    },
    {
     "data": {
      "text/plain": [
       "<Figure size 600x400 with 0 Axes>"
      ]
     },
     "metadata": {},
     "output_type": "display_data"
    },
    {
     "data": {
      "text/plain": [
       "<Figure size 600x400 with 0 Axes>"
      ]
     },
     "metadata": {},
     "output_type": "display_data"
    },
    {
     "data": {
      "text/plain": [
       "<Figure size 600x400 with 0 Axes>"
      ]
     },
     "metadata": {},
     "output_type": "display_data"
    },
    {
     "data": {
      "text/plain": [
       "<Figure size 600x400 with 0 Axes>"
      ]
     },
     "metadata": {},
     "output_type": "display_data"
    },
    {
     "data": {
      "text/plain": [
       "<Figure size 600x400 with 0 Axes>"
      ]
     },
     "metadata": {},
     "output_type": "display_data"
    },
    {
     "data": {
      "text/plain": [
       "<Figure size 600x400 with 0 Axes>"
      ]
     },
     "metadata": {},
     "output_type": "display_data"
    },
    {
     "data": {
      "text/plain": [
       "<Figure size 600x400 with 0 Axes>"
      ]
     },
     "metadata": {},
     "output_type": "display_data"
    },
    {
     "data": {
      "text/plain": [
       "<Figure size 600x400 with 0 Axes>"
      ]
     },
     "metadata": {},
     "output_type": "display_data"
    },
    {
     "data": {
      "text/plain": [
       "<Figure size 600x400 with 0 Axes>"
      ]
     },
     "metadata": {},
     "output_type": "display_data"
    },
    {
     "data": {
      "text/plain": [
       "<Figure size 600x400 with 0 Axes>"
      ]
     },
     "metadata": {},
     "output_type": "display_data"
    },
    {
     "data": {
      "text/plain": [
       "<Figure size 600x400 with 0 Axes>"
      ]
     },
     "metadata": {},
     "output_type": "display_data"
    },
    {
     "data": {
      "text/plain": [
       "<Figure size 600x400 with 0 Axes>"
      ]
     },
     "metadata": {},
     "output_type": "display_data"
    },
    {
     "data": {
      "text/plain": [
       "<Figure size 600x400 with 0 Axes>"
      ]
     },
     "metadata": {},
     "output_type": "display_data"
    },
    {
     "data": {
      "text/plain": [
       "<Figure size 600x400 with 0 Axes>"
      ]
     },
     "metadata": {},
     "output_type": "display_data"
    },
    {
     "data": {
      "text/plain": [
       "<Figure size 600x400 with 0 Axes>"
      ]
     },
     "metadata": {},
     "output_type": "display_data"
    }
   ],
   "source": [
    "#Carregar dataset\n",
    "df = pd.read_csv('apple_quality.csv')\n",
    "\n",
    "#Rodar a análise e gerar o arquivo HTML\n",
    "analyze_dataframe(df, output_file=\"apple_quality_report.html\")"
   ]
  }
 ],
 "metadata": {
  "kernelspec": {
   "display_name": "Python 3",
   "language": "python",
   "name": "python3"
  },
  "language_info": {
   "codemirror_mode": {
    "name": "ipython",
    "version": 3
   },
   "file_extension": ".py",
   "mimetype": "text/x-python",
   "name": "python",
   "nbconvert_exporter": "python",
   "pygments_lexer": "ipython3",
   "version": "3.12.7"
  }
 },
 "nbformat": 4,
 "nbformat_minor": 2
}
