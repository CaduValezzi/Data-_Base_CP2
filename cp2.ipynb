{
 "cells": [
  {
   "cell_type": "markdown",
   "metadata": {},
   "source": [
    "# Data Science Checkpoint 2\n",
    "\n",
    "#### Cassio Valezzi | 551059\n",
    "#### Lucca Sabatini | 98169\n",
    "#### Victor Nuzzi   | 98209  "
   ]
  }
 ],
 "metadata": {
  "language_info": {
   "name": "python"
  }
 },
 "nbformat": 4,
 "nbformat_minor": 2
}
